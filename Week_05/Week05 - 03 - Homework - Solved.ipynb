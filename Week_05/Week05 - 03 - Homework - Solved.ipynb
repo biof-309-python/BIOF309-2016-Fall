{
 "cells": [
  {
   "cell_type": "markdown",
   "metadata": {},
   "source": [
    "# Week 5 Homework"
   ]
  },
  {
   "cell_type": "markdown",
   "metadata": {},
   "source": [
    "---"
   ]
  },
  {
   "cell_type": "markdown",
   "metadata": {},
   "source": [
    "### 1. Write a function _cubed()_ that uses the power() function to compute the cube (power of 3) of a number. \n",
    "### 2. Write a python script to cube teh values in the _input.txt_ file and save it as _cubed.txt_"
   ]
  },
  {
   "cell_type": "markdown",
   "metadata": {},
   "source": [
    "Your code must:\n",
    "\n",
    "- Have a function named \"cube()\"\n",
    "- The cubed function must:\n",
    "    - Take only one parameter, the number to be cubed\n",
    "    - Return the cubed number\n",
    "    - Call the comp_power() function (it cannot cube the number on its' own)\n",
    "- Open the input file _input.txt_\n",
    "- Loop through each value in the input file\n",
    "- Calculate the cube of each number using your function _cubed()_\n",
    "- Save the cubed value to the _cubed.txt_ output file\n",
    "\n",
    "Please submit your python code as __your_name_cubed.py__.\n",
    "\n",
    "Please drop it here:\n",
    "\n",
    "https://dropitto.me/BIOF309-HW-Week5\n",
    "\n",
    "I will campare your results to the file name cubed_answers.txt "
   ]
  },
  {
   "cell_type": "code",
   "execution_count": 74,
   "metadata": {
    "collapsed": true
   },
   "outputs": [],
   "source": [
    "# Recall that the power function we used in class is:\n",
    "\n",
    "def power(x, y):\n",
    "    value = int(x)**int(y)\n",
    "    return value"
   ]
  },
  {
   "cell_type": "code",
   "execution_count": 13,
   "metadata": {
    "collapsed": false
   },
   "outputs": [],
   "source": [
    "#def cubed(num):\n",
    "    # raise to the power of three\n",
    "#    power(num, 3)"
   ]
  },
  {
   "cell_type": "code",
   "execution_count": 75,
   "metadata": {
    "collapsed": true
   },
   "outputs": [],
   "source": [
    "def cubed(num):\n",
    "    result = power(num, 3)\n",
    "    return result"
   ]
  },
  {
   "cell_type": "code",
   "execution_count": null,
   "metadata": {
    "collapsed": true
   },
   "outputs": [],
   "source": [
    "def cubed(num):\n",
    "    number = int(num)\n",
    "    result = power(number, 3)\n",
    "    return result"
   ]
  },
  {
   "cell_type": "code",
   "execution_count": 60,
   "metadata": {
    "collapsed": false
   },
   "outputs": [
    {
     "data": {
      "text/plain": [
       "1"
      ]
     },
     "execution_count": 60,
     "metadata": {},
     "output_type": "execute_result"
    }
   ],
   "source": [
    "int(1)"
   ]
  },
  {
   "cell_type": "code",
   "execution_count": 14,
   "metadata": {
    "collapsed": true
   },
   "outputs": [],
   "source": [
    "#def cubed(x):\n",
    "#    return x**3"
   ]
  },
  {
   "cell_type": "code",
   "execution_count": 20,
   "metadata": {
    "collapsed": false
   },
   "outputs": [
    {
     "name": "stdout",
     "output_type": "stream",
     "text": [
      "27\n"
     ]
    }
   ],
   "source": [
    "print(cubed(3))"
   ]
  },
  {
   "cell_type": "code",
   "execution_count": 22,
   "metadata": {
    "collapsed": false
   },
   "outputs": [
    {
     "name": "stdout",
     "output_type": "stream",
     "text": [
      "total 112\r\n",
      "drwxr-xr-x   9 squiresrb  NIH\\Domain Users    306 Oct 19 18:05 \u001b[34m.\u001b[m\u001b[m\r\n",
      "drwxr-xr-x  14 squiresrb  NIH\\Domain Users    476 Oct 18 00:37 \u001b[34m..\u001b[m\u001b[m\r\n",
      "-rw-r--r--@  1 squiresrb  NIH\\Domain Users   6148 Oct 12 16:52 .DS_Store\r\n",
      "drwxr-xr-x   6 squiresrb  NIH\\Domain Users    204 Oct 19 17:28 \u001b[34m.ipynb_checkpoints\u001b[m\u001b[m\r\n",
      "-rw-r--r--   1 squiresrb  NIH\\Domain Users  20709 Oct 12 23:25 Week05 - 02 - Functions.ipynb\r\n",
      "-rw-rw-r--   1 squiresrb  NIH\\Domain Users   4500 Oct 19 18:05 Week05 - 03 - Homework - Solved.ipynb\r\n",
      "-rw-r--r--   1 squiresrb  NIH\\Domain Users   2262 Oct 12 23:25 Week05 - 03 - Homework.ipynb\r\n",
      "-rw-r--r--   1 squiresrb  NIH\\Domain Users   6802 Oct 12 23:25 Why should you have functions?.ipynb\r\n",
      "-rw-rw-r--   1 squiresrb  NIH\\Domain Users     34 Oct 12 14:51 input.txt\r\n"
     ]
    }
   ],
   "source": [
    "!ls -la"
   ]
  },
  {
   "cell_type": "code",
   "execution_count": 83,
   "metadata": {
    "collapsed": false
   },
   "outputs": [
    {
     "data": {
      "text/plain": [
       "'1\\n3\\n7 \\n11\\n13\\n17\\n23\\n101\\n107\\n111\\n123'"
      ]
     },
     "execution_count": 83,
     "metadata": {},
     "output_type": "execute_result"
    }
   ],
   "source": [
    "file_connection = open(\"input.txt\")\n",
    "numbers = file_connection.read()\n",
    "numbers"
   ]
  },
  {
   "cell_type": "code",
   "execution_count": 32,
   "metadata": {
    "collapsed": false
   },
   "outputs": [
    {
     "name": "stdout",
     "output_type": "stream",
     "text": [
      "/Users/squiresrb/Documents/version_control/BIOF309-2016-Fall/Week_05\r\n"
     ]
    }
   ],
   "source": [
    "!pwd"
   ]
  },
  {
   "cell_type": "code",
   "execution_count": 38,
   "metadata": {
    "collapsed": false
   },
   "outputs": [
    {
     "data": {
      "text/plain": [
       "'/Users/squiresrb/Documents/version_control/BIOF309-2016-Fall/Week_05'"
      ]
     },
     "execution_count": 38,
     "metadata": {},
     "output_type": "execute_result"
    }
   ],
   "source": [
    "import os\n",
    "os.getcwd()"
   ]
  },
  {
   "cell_type": "code",
   "execution_count": 45,
   "metadata": {
    "collapsed": false
   },
   "outputs": [
    {
     "data": {
      "text/plain": [
       "str"
      ]
     },
     "execution_count": 45,
     "metadata": {},
     "output_type": "execute_result"
    }
   ],
   "source": [
    "type(numbers)"
   ]
  },
  {
   "cell_type": "code",
   "execution_count": 46,
   "metadata": {
    "collapsed": false
   },
   "outputs": [
    {
     "name": "stdout",
     "output_type": "stream",
     "text": [
      "Help on built-in function split:\n",
      "\n",
      "split(...) method of builtins.str instance\n",
      "    S.split(sep=None, maxsplit=-1) -> list of strings\n",
      "    \n",
      "    Return a list of the words in S, using sep as the\n",
      "    delimiter string.  If maxsplit is given, at most maxsplit\n",
      "    splits are done. If sep is not specified or is None, any\n",
      "    whitespace string is a separator and empty strings are\n",
      "    removed from the result.\n",
      "\n"
     ]
    }
   ],
   "source": [
    "help(numbers.split)"
   ]
  },
  {
   "cell_type": "code",
   "execution_count": 49,
   "metadata": {
    "collapsed": false
   },
   "outputs": [
    {
     "data": {
      "text/plain": [
       "['1', '3', '7', '11', '13', '17', '23', '101', '107', '111', '123']"
      ]
     },
     "execution_count": 49,
     "metadata": {},
     "output_type": "execute_result"
    }
   ],
   "source": [
    "numbers_list = numbers.split()\n",
    "numbers_list"
   ]
  },
  {
   "cell_type": "code",
   "execution_count": 59,
   "metadata": {
    "collapsed": false
   },
   "outputs": [
    {
     "name": "stdout",
     "output_type": "stream",
     "text": [
      "1\n",
      "27\n",
      "343\n",
      "1331\n",
      "2197\n",
      "4913\n",
      "12167\n",
      "1030301\n",
      "1225043\n",
      "1367631\n",
      "1860867\n"
     ]
    }
   ],
   "source": [
    "for item in numbers_list:\n",
    "    print(cubed(item))"
   ]
  },
  {
   "cell_type": "code",
   "execution_count": 77,
   "metadata": {
    "collapsed": true
   },
   "outputs": [],
   "source": [
    "output_connection = open(\"cubed.txt\", 'w')"
   ]
  },
  {
   "cell_type": "code",
   "execution_count": 78,
   "metadata": {
    "collapsed": false
   },
   "outputs": [],
   "source": [
    "for item in numbers_list:\n",
    "    cubed_number = cubed(item)\n",
    "    output_connection.write(str(cubed_number) + \"\\n\")"
   ]
  },
  {
   "cell_type": "code",
   "execution_count": 73,
   "metadata": {
    "collapsed": true
   },
   "outputs": [],
   "source": [
    "output_connection.close()"
   ]
  },
  {
   "cell_type": "code",
   "execution_count": 79,
   "metadata": {
    "collapsed": true
   },
   "outputs": [],
   "source": [
    "from power_biof309 import power"
   ]
  },
  {
   "cell_type": "code",
   "execution_count": 82,
   "metadata": {
    "collapsed": true
   },
   "outputs": [],
   "source": [
    "# Recall that the power function we used in class is:\n",
    "\n",
    "def power(x, y):\n",
    "    value = int(x)**int(y)\n",
    "    return value\n",
    "\n",
    "def cubed(num):\n",
    "    number = int(num)\n",
    "    result = power(number, 3)\n",
    "    return result\n",
    "\n",
    "file_connection = open(\"input.txt\")\n",
    "numbers = file_connection.read()\n",
    "\n",
    "numbers_list = numbers.split()\n",
    "\n",
    "output_connection = open(\"cubed-test.txt\", 'w')\n",
    "\n",
    "for item in numbers_list:\n",
    "    cubed_number = cubed(item)\n",
    "    output_connection.write(str(cubed_number) + \"\\n\")\n",
    "    \n",
    "output_connection.close()"
   ]
  },
  {
   "cell_type": "code",
   "execution_count": 5,
   "metadata": {
    "collapsed": false
   },
   "outputs": [],
   "source": [
    "def power(x, y):\n",
    "    return int(str.strip([x]))**int(y)\n",
    "\n",
    "def cubed(num):\n",
    "    return power(num, 3)\n",
    "\n",
    "file_connection = open(\"input.txt\")\n",
    "output_connection = open(\"cubed-test.txt\", 'w')\n",
    "\n",
    "for line in file_connection.readline():\n",
    "    line\n",
    "    #cubed_number = cubed(line)\n",
    "    #output_connection.write(str(cubed_number) + \"\\n\")\n",
    "    \n",
    "file_connection.close()\n",
    "output_connection.close()"
   ]
  },
  {
   "cell_type": "code",
   "execution_count": 6,
   "metadata": {
    "collapsed": true
   },
   "outputs": [],
   "source": [
    "file_connection.readline?"
   ]
  },
  {
   "cell_type": "code",
   "execution_count": null,
   "metadata": {
    "collapsed": true
   },
   "outputs": [],
   "source": []
  },
  {
   "cell_type": "code",
   "execution_count": null,
   "metadata": {
    "collapsed": true
   },
   "outputs": [],
   "source": []
  }
 ],
 "metadata": {
  "anaconda-cloud": {},
  "kernelspec": {
   "display_name": "Python [default]",
   "language": "python",
   "name": "python3"
  },
  "language_info": {
   "codemirror_mode": {
    "name": "ipython",
    "version": 3
   },
   "file_extension": ".py",
   "mimetype": "text/x-python",
   "name": "python",
   "nbconvert_exporter": "python",
   "pygments_lexer": "ipython3",
   "version": "3.5.2"
  }
 },
 "nbformat": 4,
 "nbformat_minor": 0
}
