{
 "cells": [
  {
   "cell_type": "markdown",
   "metadata": {},
   "source": [
    "# Functions"
   ]
  },
  {
   "cell_type": "markdown",
   "metadata": {},
   "source": [
    "---"
   ]
  },
  {
   "cell_type": "markdown",
   "metadata": {},
   "source": [
    "#### Definition:"
   ]
  },
  {
   "cell_type": "markdown",
   "metadata": {},
   "source": [
    "Function: (1) **In programming, a named section of a program that performs a specific task.** In this sense, a function is a type of procedure or routine. Some programming languages make a distinction between a function, which returns a value, and a procedure, which performs some operation but does not return a value.\n",
    "Most programming languages come with a prewritten set of functions that are kept in a library. You can also write your own functions to perform specialized tasks.\n",
    "(2) The term function is also used synonymously with operation and command. For example, you execute the delete function to erase a word."
   ]
  },
  {
   "cell_type": "markdown",
   "metadata": {},
   "source": [
    "---"
   ]
  },
  {
   "cell_type": "markdown",
   "metadata": {},
   "source": [
    "Functions are an essential ingredient of all programs, large and small, and serve as our primary medium to express computational processes in a programming language. Fundamentally, the qualities of good functions all reinforce the idea that functions are abstractions.\n",
    "\n",
    "- Each function should have __exactly one job__. That job should be identifiable with a short name and characterizable in a single line of text. Functions that perform multiple jobs in sequence should be divided into multiple functions.\n",
    "- __Don't repeat yourself__ is a central tenet of software engineering. The so-called DRY principle states that multiple fragments of code should not describe redundant logic. Instead, that logic should be implemented once, given a name, and applied multiple times. If you find yourself copying and pasting a block of code, you have probably found an opportunity for functional abstraction.\n",
    "- __Functions should be defined generally__. Squaring is not in the Python Library precisely because it is a special case of the pow function, which raises numbers to arbitrary powers.\n",
    "\n",
    "[Source](http://composingprograms.com/pages/14-designing-functions.html)\n",
    "\n",
    "It may not be clear why it is worth the trouble to divide a program into functions. There are several reasons:\n",
    "\n",
    "- Creating a new function gives you an opportunity to name a group of statements, which makes your program easier to read and debug.\n",
    "- Functions can make a program smaller by eliminating repetitive code. Later, if you make a change, you only have to make it in one place.\n",
    "- Dividing a long program into functions allows you to debug the parts one at a time and then assemble them into a working whole.\n",
    "- Well-designed functions are often useful for many programs. Once you write and debug one, you can reuse it.\n",
    "\n",
    "These guidelines improve the readability of code, reduce the number of errors, and often minimize the total amount of code written. Decomposing a complex task into concise functions is a skill that takes experience to master. Fortunately, Python provides several features to support your efforts.\n",
    "\n",
    "[Source](http://www.greenteapress.com/thinkpython/html/thinkpython004.html)"
   ]
  },
  {
   "cell_type": "markdown",
   "metadata": {},
   "source": [
    "How do we square a number? (Lets pretend we do not all have calculators, phones or computers to do this for us!)"
   ]
  },
  {
   "cell_type": "code",
   "execution_count": 2,
   "metadata": {
    "collapsed": false
   },
   "outputs": [
    {
     "data": {
      "text/plain": [
       "36"
      ]
     },
     "execution_count": 2,
     "metadata": {},
     "output_type": "execute_result"
    }
   ],
   "source": [
    "6 * 6"
   ]
  },
  {
   "cell_type": "markdown",
   "metadata": {},
   "source": [
    "The square is just a number multiplied by itself. In python the code that as:"
   ]
  },
  {
   "cell_type": "code",
   "execution_count": 3,
   "metadata": {
    "collapsed": false
   },
   "outputs": [
    {
     "data": {
      "text/plain": [
       "36"
      ]
     },
     "execution_count": 3,
     "metadata": {},
     "output_type": "execute_result"
    }
   ],
   "source": [
    "6**2"
   ]
  },
  {
   "cell_type": "markdown",
   "metadata": {},
   "source": [
    "We can also assign this calculation to a varaible:"
   ]
  },
  {
   "cell_type": "code",
   "execution_count": 4,
   "metadata": {
    "collapsed": false
   },
   "outputs": [],
   "source": [
    "a = 6**2"
   ]
  },
  {
   "cell_type": "markdown",
   "metadata": {},
   "source": [
    "What happens if we need to square different numbers in our hypothetical program?\n",
    "\n",
    "- Cut and paste and change each time?"
   ]
  },
  {
   "cell_type": "code",
   "execution_count": 5,
   "metadata": {
    "collapsed": false
   },
   "outputs": [
    {
     "name": "stdout",
     "output_type": "stream",
     "text": [
      "36\n",
      "49\n"
     ]
    }
   ],
   "source": [
    "a = 6**2\n",
    "b = 7**2\n",
    "\n",
    "print(a)\n",
    "print(b)"
   ]
  },
  {
   "cell_type": "markdown",
   "metadata": {},
   "source": [
    "What if I want to square a varaible _x_ and set it equal to _a_? What if we want to square the variable _y_ and set it equal to _b_?\n",
    "\n",
    "This takes the code to a single level of abstraction"
   ]
  },
  {
   "cell_type": "code",
   "execution_count": null,
   "metadata": {
    "collapsed": false
   },
   "outputs": [],
   "source": [
    "x = 6\n",
    "y = 7\n",
    "\n",
    "a = x**2\n",
    "b = y**2\n",
    "\n",
    "print(a)\n",
    "print(b)"
   ]
  },
  {
   "cell_type": "markdown",
   "metadata": {},
   "source": [
    "We see that we are executing the same code but with a different input, x or y. We have abstracted the code a little to introduce the varaibles _x_ and _y_. \n",
    "\n",
    "How do we convert this to a function?"
   ]
  },
  {
   "cell_type": "markdown",
   "metadata": {},
   "source": [
    "What is the pattern we see in the code above?\n",
    "\n",
    "- initialize a varaible\n",
    "        x = 6\n",
    "\n",
    "- square the varaible and set the result equal to another variable\n",
    "        a = x**2\n",
    "\n",
    "- print the resulting varaible\n",
    "        print(a)\n",
    "\n",
    "\n",
    "We perform the same pattern again by replacing _a_ with _b_ and _x_ with _y_.\n"
   ]
  },
  {
   "cell_type": "code",
   "execution_count": null,
   "metadata": {
    "collapsed": false
   },
   "outputs": [],
   "source": [
    "x = 6\n",
    "a = x**2\n",
    "print(a)"
   ]
  },
  {
   "cell_type": "markdown",
   "metadata": {},
   "source": [
    "How do we convert this to a function, exactly as it is?"
   ]
  },
  {
   "cell_type": "markdown",
   "metadata": {},
   "source": [
    "## Creating a Function"
   ]
  },
  {
   "cell_type": "code",
   "execution_count": 6,
   "metadata": {
    "collapsed": false
   },
   "outputs": [],
   "source": [
    "def square_x():\n",
    "    x = 6\n",
    "    a = x**2\n",
    "    print(a)"
   ]
  },
  {
   "cell_type": "markdown",
   "metadata": {},
   "source": [
    "###### def = define for defining function. Give it a name: square_x. because it is a function, also needs open and close () and a colon:"
   ]
  },
  {
   "cell_type": "markdown",
   "metadata": {},
   "source": [
    "What happens when we run this? \n",
    ".\n",
    ".\n",
    ".\n",
    "Nothing!"
   ]
  },
  {
   "cell_type": "markdown",
   "metadata": {},
   "source": [
    "###### calling a function = running it. just defining it is not enough"
   ]
  },
  {
   "cell_type": "markdown",
   "metadata": {},
   "source": [
    "Functions must be _called_ to be run. Lets _call_ the function:\n",
    "to call a function, simply print its name and do open and close parentheses"
   ]
  },
  {
   "cell_type": "code",
   "execution_count": 7,
   "metadata": {
    "collapsed": false
   },
   "outputs": [
    {
     "name": "stdout",
     "output_type": "stream",
     "text": [
      "36\n"
     ]
    }
   ],
   "source": [
    "square_x()"
   ]
  },
  {
   "cell_type": "markdown",
   "metadata": {},
   "source": [
    "This function prints the number 36 only. Can call it: 'print 36' if want; need to further abstract to see power of this because have nothing in middle of parentheses (no parameters), this function works. Lets chenge the function to give parameters."
   ]
  },
  {
   "cell_type": "markdown",
   "metadata": {},
   "source": [
    "## Parameters"
   ]
  },
  {
   "cell_type": "markdown",
   "metadata": {},
   "source": [
    "Parameters are variables that serve as input to a function. We can extract the _x_ varaible from our code to create a parameter _x_."
   ]
  },
  {
   "cell_type": "code",
   "execution_count": 8,
   "metadata": {
    "collapsed": false
   },
   "outputs": [],
   "source": [
    "def square(x):\n",
    "    # x = 6\n",
    "    a = x**2\n",
    "    print(a)"
   ]
  },
  {
   "cell_type": "markdown",
   "metadata": {},
   "source": [
    "The parameters are then fed into the functiona t the time of the call:"
   ]
  },
  {
   "cell_type": "code",
   "execution_count": 15,
   "metadata": {
    "collapsed": false
   },
   "outputs": [
    {
     "data": {
      "text/plain": [
       "1296"
      ]
     },
     "execution_count": 15,
     "metadata": {},
     "output_type": "execute_result"
    }
   ],
   "source": [
    "square(square(6))"
   ]
  },
  {
   "cell_type": "markdown",
   "metadata": {},
   "source": [
    "No longer defining x value within function. now do this outside of function. we now have function that will square any number given to it"
   ]
  },
  {
   "cell_type": "markdown",
   "metadata": {},
   "source": [
    "## Returning a Value From a Function"
   ]
  },
  {
   "cell_type": "markdown",
   "metadata": {},
   "source": [
    "In our example we are printing the result of our function within hte function. What if we wanted to use the result of our function? We can change the function to return a result and tehn we can save teh result and print the result."
   ]
  },
  {
   "cell_type": "code",
   "execution_count": 19,
   "metadata": {
    "collapsed": false
   },
   "outputs": [
    {
     "data": {
      "text/plain": [
       "9"
      ]
     },
     "execution_count": 19,
     "metadata": {},
     "output_type": "execute_result"
    }
   ],
   "source": [
    "x = 3 #set \"global\" variable equal to 3\n",
    "\n",
    "def square(x): #still have single parameter, x; must define a function before calling it\n",
    "    a = x**2\n",
    "    return a #return is a keyword that allows us to return the result we computed earlier (Saves the result of function into variable sqr)\n",
    "\n",
    "square(x)"
   ]
  },
  {
   "cell_type": "markdown",
   "metadata": {},
   "source": [
    "Now this function has a huge boost in capability by being called to a variable"
   ]
  },
  {
   "cell_type": "markdown",
   "metadata": {},
   "source": [
    "## What are the Requirements of a Function?"
   ]
  },
  {
   "cell_type": "markdown",
   "metadata": {},
   "source": [
    "What are the requirements of a function:\n",
    "- the _def_ keyword\n",
    "- A function name (see PEP8 guidelines for function names [here](https://www.python.org/dev/peps/pep-0008/#function-names))\n",
    "- need open and close parentheses\n",
    "- A semicolon \":\" at the end of the _def_ line\n",
    "- One or more lines of code in the body\n",
    "\n",
    "Optional components:\n",
    "- Zero or more parameters\n",
    "- Zero or more return variables\n",
    "        \n",
    "        def function_name([parameters]):\n",
    "            body - some code which must be indented\n",
    "            [return object(s)]"
   ]
  },
  {
   "cell_type": "markdown",
   "metadata": {},
   "source": [
    "Note to save functions, would create file like burkes_functions.py, this would be a text file"
   ]
  },
  {
   "cell_type": "markdown",
   "metadata": {},
   "source": [
    "## What if We Need Two or More Parameters?"
   ]
  },
  {
   "cell_type": "markdown",
   "metadata": {},
   "source": [
    "Lets abstract our function again and enable it to raise any number to any power."
   ]
  },
  {
   "cell_type": "code",
   "execution_count": null,
   "metadata": {
    "collapsed": false
   },
   "outputs": [],
   "source": [
    "def square(x, y): #function with 2 parameters\n",
    "    a = x**y\n",
    "    return a\n",
    "\n",
    "sqr = power(6, 2) #must feed in both parameters when call code\n",
    "print(sqr)"
   ]
  },
  {
   "cell_type": "markdown",
   "metadata": {},
   "source": [
    "Does teh name square make sense any more?"
   ]
  },
  {
   "cell_type": "code",
   "execution_count": 20,
   "metadata": {
    "collapsed": false
   },
   "outputs": [
    {
     "name": "stdout",
     "output_type": "stream",
     "text": [
      "36\n"
     ]
    }
   ],
   "source": [
    "def power(x, y): #function with 2 parameters\n",
    "    a = x**y\n",
    "    return a\n",
    "\n",
    "sqr = power(6, 2) #must feed in both parameters when call code\n",
    "print(sqr)"
   ]
  },
  {
   "cell_type": "code",
   "execution_count": 21,
   "metadata": {
    "collapsed": false
   },
   "outputs": [
    {
     "name": "stdout",
     "output_type": "stream",
     "text": [
      "36\n"
     ]
    }
   ],
   "source": [
    "def power(x, y): #function with 2 parameters\n",
    "    return x**y\n",
    "\n",
    "sqr = power(6, 2) #must feed in both parameters when call code\n",
    "print(sqr)"
   ]
  },
  {
   "cell_type": "markdown",
   "metadata": {},
   "source": [
    "## Setting a Default Value to the Parameter"
   ]
  },
  {
   "cell_type": "code",
   "execution_count": null,
   "metadata": {
    "collapsed": false
   },
   "outputs": [],
   "source": [
    "def power(x, y=2): #removes necessity of feeding second value in when call function\n",
    "    a = x**y\n",
    "    return a\n",
    "\n",
    "sqr = power(6) #do not need to give value for y because have defaulted it, but can define value if want to automatically override default\n",
    "print(sqr)"
   ]
  },
  {
   "cell_type": "code",
   "execution_count": 22,
   "metadata": {
    "collapsed": false
   },
   "outputs": [
    {
     "name": "stdout",
     "output_type": "stream",
     "text": [
      "Help on function power in module __main__:\n",
      "\n",
      "power(x, y)\n",
      "\n"
     ]
    }
   ],
   "source": [
    "help(power)"
   ]
  },
  {
   "cell_type": "markdown",
   "metadata": {},
   "source": [
    "## Describing Functions in Python"
   ]
  },
  {
   "cell_type": "markdown",
   "metadata": {},
   "source": [
    "To define a function use the keyword def, as in:"
   ]
  },
  {
   "cell_type": "code",
   "execution_count": 23,
   "metadata": {
    "collapsed": false
   },
   "outputs": [],
   "source": [
    "def my_function():\n",
    "    \"\"\"This function prints hello\"\"\" #three double quotes around statement define a doc string\n",
    "    print(\"hello\")\n",
    "    return"
   ]
  },
  {
   "cell_type": "markdown",
   "metadata": {},
   "source": [
    "Note the use of the docstring, which will allow us to use help function:\n",
    "-it can also extend to multiple lines, so be as descriptive as you can"
   ]
  },
  {
   "cell_type": "code",
   "execution_count": 24,
   "metadata": {
    "collapsed": false
   },
   "outputs": [
    {
     "name": "stdout",
     "output_type": "stream",
     "text": [
      "Help on function my_function in module __main__:\n",
      "\n",
      "my_function()\n",
      "    This function prints hello\n",
      "\n"
     ]
    }
   ],
   "source": [
    "help(my_function) #help will tell entire description that is supplied in doc string (for ex. could put defaults here)"
   ]
  },
  {
   "cell_type": "markdown",
   "metadata": {},
   "source": [
    "Help on function my_function in module __main__:\n",
    "\n",
    "    my_function()\n",
    "        This function prints hello"
   ]
  },
  {
   "cell_type": "markdown",
   "metadata": {},
   "source": [
    "## Returning More Than One Result"
   ]
  },
  {
   "cell_type": "code",
   "execution_count": 31,
   "metadata": {
    "collapsed": false
   },
   "outputs": [
    {
     "name": "stdout",
     "output_type": "stream",
     "text": [
      "729\n",
      "729 3 6\n"
     ]
    }
   ],
   "source": [
    "def power(x, y=2):\n",
    "    a = x**y\n",
    "    return a, x, y\n",
    "\n",
    "sqr, num, power = power(y=6, x=3)\n",
    "print(sqr)\n",
    "print(sqr,num,power)"
   ]
  },
  {
   "cell_type": "markdown",
   "metadata": {},
   "source": [
    "## Pass by Reference vs Value (can SKIP over this - didn't discuss in class)"
   ]
  },
  {
   "cell_type": "markdown",
   "metadata": {},
   "source": [
    "All parameters (arguments) in the Python language are passed by reference. It means if you change what a parameter refers to within a function, the change also reflects back in the calling function. For example:"
   ]
  },
  {
   "cell_type": "code",
   "execution_count": null,
   "metadata": {
    "collapsed": false
   },
   "outputs": [],
   "source": [
    "#!/usr/bin/python\n",
    "\n",
    "# Function definition is here\n",
    "def changeme( mylist ):\n",
    "   \"This changes a passed list into this function\"\n",
    "   mylist.append([1,2,3,4]);\n",
    "   print(\"Values inside the function: \", mylist)\n",
    "   return\n",
    "\n",
    "# Now you can call changeme function\n",
    "mylist = [10,20,30];\n",
    "changeme( mylist );\n",
    "print(\"Values outside the function: \", mylist)"
   ]
  },
  {
   "cell_type": "markdown",
   "metadata": {},
   "source": [
    "## Calling Functions within Functions"
   ]
  },
  {
   "cell_type": "code",
   "execution_count": null,
   "metadata": {
    "collapsed": false
   },
   "outputs": [],
   "source": [
    "def power(x, y=2):\n",
    "    a = x**y\n",
    "    return a\n",
    "\n",
    "sqr = power(power(2)) #i've raised 2 to the second power to get 4 and feeding 4 into power again to get squared\n",
    "print(sqr)"
   ]
  },
  {
   "cell_type": "markdown",
   "metadata": {},
   "source": [
    "---"
   ]
  },
  {
   "cell_type": "markdown",
   "metadata": {},
   "source": [
    "## Functions Checklist:"
   ]
  },
  {
   "cell_type": "markdown",
   "metadata": {},
   "source": [
    "[Source](http://learnpythonthehardway.org/book/ex18.html)\n",
    "\n",
    "These may help you as you begin to work with functions:\n",
    "\n",
    "- Did you start your function definition with _def_?\n",
    "- Does your function name have only characters and _ (underscore) characters?\n",
    "- Did you put an open parenthesis ( right after the function name?\n",
    "- Did you put your arguments after the parenthesis ( separated by commas?\n",
    "- Did you make each argument unique (meaning no duplicated names)?\n",
    "- Did you put a close parenthesis and a colon ): after the arguments?\n",
    "- Did you indent all lines of code you want in the function four spaces? No more, no less.\n",
    "- Did you \"end\" your function by going back to writing with no indent (dedenting we call it)?\n",
    "\n",
    "When you run (\"use\" or \"call\") a function, check these things:\n",
    "\n",
    "- Did you call/use/run this function by typing its name?\n",
    "- Did you put the ( character after the name to run it?\n",
    "- Did you put the values you want into the parenthesis separated by commas?\n",
    "- Did you end the function call with a ) character?"
   ]
  },
  {
   "cell_type": "markdown",
   "metadata": {},
   "source": [
    "### Python Best Practices:\n",
    "\n",
    "- [Advice on structure a python program overall](http://docs.python-guide.org/en/latest/writing/structure/)"
   ]
  },
  {
   "cell_type": "code",
   "execution_count": null,
   "metadata": {
    "collapsed": true
   },
   "outputs": [],
   "source": []
  }
 ],
 "metadata": {
  "anaconda-cloud": {},
  "kernelspec": {
   "display_name": "Python [default]",
   "language": "python",
   "name": "python3"
  },
  "language_info": {
   "codemirror_mode": {
    "name": "ipython",
    "version": 3
   },
   "file_extension": ".py",
   "mimetype": "text/x-python",
   "name": "python",
   "nbconvert_exporter": "python",
   "pygments_lexer": "ipython3",
   "version": "3.5.2"
  }
 },
 "nbformat": 4,
 "nbformat_minor": 0
}
