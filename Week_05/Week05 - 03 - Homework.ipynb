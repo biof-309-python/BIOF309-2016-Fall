{
 "cells": [
  {
   "cell_type": "markdown",
   "metadata": {},
   "source": [
    "# Week 5 Homework"
   ]
  },
  {
   "cell_type": "markdown",
   "metadata": {},
   "source": [
    "---"
   ]
  },
  {
   "cell_type": "markdown",
   "metadata": {},
   "source": [
    "### 1. Write a function _cubed()_ that uses the power() function to compute the cube (power of 3) of a number. \n",
    "### 2. Write a python script to cube teh values in the _input.txt_ file and save it as _cubed.txt_"
   ]
  },
  {
   "cell_type": "markdown",
   "metadata": {},
   "source": [
    "Your code must:\n",
    "\n",
    "- Have a function named \"cube()\"\n",
    "- The cubed function must:\n",
    "    - Take only one parameter, the number to be cubed\n",
    "    - Return the cubed number\n",
    "    - Call the comp_power() function (it cannot cube the number on its' own)\n",
    "- Open the input file _input.txt_\n",
    "- Loop through each value in the input file\n",
    "- Calculate the cube of each number using your function _cubed()_\n",
    "- Save the cubed value to the _cubed.txt_ output file\n",
    "\n",
    "Please submit your python code as __your_name_cubed.py__.\n",
    "\n",
    "Please drop it here:\n",
    "\n",
    "https://dropitto.me/BIOF309-HW-Week5\n",
    "\n",
    "I will campare your results to the file name cubed_answers.txt "
   ]
  },
  {
   "cell_type": "code",
   "execution_count": 18,
   "metadata": {
    "collapsed": true
   },
   "outputs": [],
   "source": [
    "# Recall that the power function we used in class is:\n",
    "\n",
    "def comp_power(x, y):\n",
    "    value = x**y\n",
    "    return value"
   ]
  },
  {
   "cell_type": "code",
   "execution_count": null,
   "metadata": {
    "collapsed": true
   },
   "outputs": [],
   "source": []
  }
 ],
 "metadata": {
  "anaconda-cloud": {},
  "kernelspec": {
   "display_name": "Python [default]",
   "language": "python",
   "name": "python3"
  },
  "language_info": {
   "codemirror_mode": {
    "name": "ipython",
    "version": 3
   },
   "file_extension": ".py",
   "mimetype": "text/x-python",
   "name": "python",
   "nbconvert_exporter": "python",
   "pygments_lexer": "ipython3",
   "version": "3.5.2"
  }
 },
 "nbformat": 4,
 "nbformat_minor": 0
}
