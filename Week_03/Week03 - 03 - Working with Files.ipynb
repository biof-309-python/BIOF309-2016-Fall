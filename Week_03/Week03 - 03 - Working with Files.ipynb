{
 "cells": [
  {
   "cell_type": "markdown",
   "metadata": {},
   "source": [
    "# Working with Files"
   ]
  },
  {
   "cell_type": "markdown",
   "metadata": {},
   "source": [
    "This notebook builds upon the [Python for Biologists](http://pythonforbiologists.com/index.php/introduction-to-python-for-biologists/reading-and-writing-files/) and [Software Carpentry](https://swcarpentry.github.io/python-novice-inflammation/04-files/) materials."
   ]
  },
  {
   "cell_type": "markdown",
   "metadata": {},
   "source": [
    "## Text versus Binary Files\n",
    "\n",
    "A text file is a file that contains charaster or string data. Openning a text file in a text editor will display the file. Some exmaples of bioinformatics text documents include:\n",
    "\n",
    "- FASTA files of DNA or protein sequences\n",
    "- files containing output from command-line programs (e.g. BLAST)\n",
    "- FASTQ files containing DNA sequencing reads\n",
    "- HTML files\n",
    "- word processing documents\n",
    "- and of course, Python code\n",
    "\n",
    "In contrast, many other files will be binary files – ones which are not made up of characters and lines, but of bytes. Examples include:\n",
    "\n",
    "- BAM files\n",
    "- image files (JPEGs and PNGs)\n",
    "- audio files\n",
    "- video files\n",
    "- compressed files (e.g. ZIP files)\n",
    "\n",
    "---"
   ]
  },
  {
   "cell_type": "markdown",
   "metadata": {},
   "source": [
    "## Making a new file and writing to it"
   ]
  },
  {
   "cell_type": "code",
   "execution_count": 1,
   "metadata": {
    "collapsed": true
   },
   "outputs": [],
   "source": [
    "sequence_description = \">gb:AF333238|A/Brevig Mission/1/1918(H1N1)|Segment:8|Subtype:H1N1|Host:Human\"\n",
    "sequence = \"ATGGATTCCAACACTGTGTCAAGCTTTCAGGTAGACTGCTTTCTTTGGCATGTCCGCAAACGGTTTGCAG\\n\\\n",
    "ACCAAGAACTGGGTGATGCCCCATTCCTTGATCGGCTTCGCCGAGATCAGAAGTCCCTAAGAGGAAGAGG\\n\\\n",
    "CAGCACTCTTGGTCTGGACATCGAGACAGCCACCCGTGCTGGAAAGCAGATAGTGGAGCGGATTCTGAAG\\n\\\n",
    "GAAGAATCCGATGAGGCACTTAAAATGACCATTGCCTCTGTACCTGCTTCGCGCTACCTAACTGACATGA\\n\\\n",
    "CTCTTGAGGAGATGTCAAGGGACTGGTTCATGCTCATGCCCAAGCAGAAAGTGGCAGGCTCTCTTTGTAT\\n\\\n",
    "CAGAATGGACCAGGCGATCATGGATAAGAACATCATACTGAAAGCGAACTTCAGTGTGATTTTCGACCGG\\n\\\n",
    "CTGGAGACTCTAATACTACTAAGGGCTTTCACCGAAGAGGGAGCAATTGTTGGCGAAATTTCACCATTGC\\n\\\n",
    "CTTCTCTTCCAGGACATACTGATGAGGATGTCAAAAATGCAGTTGGGGTCCTCATCGGAGGACTTGAATG\\n\\\n",
    "GAATGATAACACAGTTCGAGTCTCTGAAACTCTACAGAGATTCGCTTGGAGAAGCAGTAATGAGAATGGG\\n\\\n",
    "AGACCTCCACTCCCTCCAAAACAGAAACGGAAAATGGCGAGAACAATTAAGTCAGAAGTTTGAAGAAATA\\n\\\n",
    "AGATGGTTGATTGAAGAAGTGAGACATAGACTGAAGATAACAGAGAATAGTTTTGAGCAAATAACATTTA\\n\\\n",
    "TGCAAGCCTTACAACTATTGCTTGAAGTGGAGCAAGAGATAAGAACTTTCTCGTTTCAGCTTATTTAA\""
   ]
  },
  {
   "cell_type": "markdown",
   "metadata": {},
   "source": [
    "Lets say that we want to save the information above into a FASTA file. How do we do it?\n",
    "\n",
    "1. We have to create a new file\n",
    "2. We have to give the file a name\n",
    "3. We have to tell python that we want to write to teh file, not just read form it.\n",
    "4. As a good programmer we will close teh file when we are done with it\n"
   ]
  },
  {
   "cell_type": "markdown",
   "metadata": {},
   "source": [
    "### How do we create a new file?\n",
    "\n",
    "We create a new file using the _open()_ function of python"
   ]
  },
  {
   "cell_type": "code",
   "execution_count": null,
   "metadata": {
    "collapsed": true
   },
   "outputs": [
    {
     "name": "stdout",
     "output_type": "stream",
     "text": [
      "Help on built-in function open in module io:\n",
      "\n",
      "open(file, mode='r', buffering=-1, encoding=None, errors=None, newline=None, closefd=True, opener=None)\n",
      "    Open file and return a stream.  Raise IOError upon failure.\n",
      "    \n",
      "    file is either a text or byte string giving the name (and the path\n",
      "    if the file isn't in the current working directory) of the file to\n",
      "    be opened or an integer file descriptor of the file to be\n",
      "    wrapped. (If a file descriptor is given, it is closed when the\n",
      "    returned I/O object is closed, unless closefd is set to False.)\n",
      "    \n",
      "    mode is an optional string that specifies the mode in which the file\n",
      "    is opened. It defaults to 'r' which means open for reading in text\n",
      "    mode.  Other common values are 'w' for writing (truncating the file if\n",
      "    it already exists), 'x' for creating and writing to a new file, and\n",
      "    'a' for appending (which on some Unix systems, means that all writes\n",
      "    append to the end of the file regardless of the current seek position).\n",
      "    In text mode, if encoding is not specified the encoding used is platform\n",
      "    dependent: locale.getpreferredencoding(False) is called to get the\n",
      "    current locale encoding. (For reading and writing raw bytes use binary\n",
      "    mode and leave encoding unspecified.) The available modes are:\n",
      "    \n",
      "    ========= ===============================================================\n",
      "    Character Meaning\n",
      "    --------- ---------------------------------------------------------------\n",
      "    'r'       open for reading (default)\n",
      "    'w'       open for writing, truncating the file first\n",
      "    'x'       create a new file and open it for writing\n",
      "    'a'       open for writing, appending to the end of the file if it exists\n",
      "    'b'       binary mode\n",
      "    't'       text mode (default)\n",
      "    '+'       open a disk file for updating (reading and writing)\n",
      "    'U'       universal newline mode (deprecated)\n",
      "    ========= ===============================================================\n",
      "    \n",
      "    The default mode is 'rt' (open for reading text). For binary random\n",
      "    access, the mode 'w+b' opens and truncates the file to 0 bytes, while\n",
      "    'r+b' opens the file without truncation. The 'x' mode implies 'w' and\n",
      "    raises an `FileExistsError` if the file already exists.\n",
      "    \n",
      "    Python distinguishes between files opened in binary and text modes,\n",
      "    even when the underlying operating system doesn't. Files opened in\n",
      "    binary mode (appending 'b' to the mode argument) return contents as\n",
      "    bytes objects without any decoding. In text mode (the default, or when\n",
      "    't' is appended to the mode argument), the contents of the file are\n",
      "    returned as strings, the bytes having been first decoded using a\n",
      "    platform-dependent encoding or using the specified encoding if given.\n",
      "    \n",
      "    'U' mode is deprecated and will raise an exception in future versions\n",
      "    of Python.  It has no effect in Python 3.  Use newline to control\n",
      "    universal newlines mode.\n",
      "    \n",
      "    buffering is an optional integer used to set the buffering policy.\n",
      "    Pass 0 to switch buffering off (only allowed in binary mode), 1 to select\n",
      "    line buffering (only usable in text mode), and an integer > 1 to indicate\n",
      "    the size of a fixed-size chunk buffer.  When no buffering argument is\n",
      "    given, the default buffering policy works as follows:\n",
      "    \n",
      "    * Binary files are buffered in fixed-size chunks; the size of the buffer\n",
      "      is chosen using a heuristic trying to determine the underlying device's\n",
      "      \"block size\" and falling back on `io.DEFAULT_BUFFER_SIZE`.\n",
      "      On many systems, the buffer will typically be 4096 or 8192 bytes long.\n",
      "    \n",
      "    * \"Interactive\" text files (files for which isatty() returns True)\n",
      "      use line buffering.  Other text files use the policy described above\n",
      "      for binary files.\n",
      "    \n",
      "    encoding is the name of the encoding used to decode or encode the\n",
      "    file. This should only be used in text mode. The default encoding is\n",
      "    platform dependent, but any encoding supported by Python can be\n",
      "    passed.  See the codecs module for the list of supported encodings.\n",
      "    \n",
      "    errors is an optional string that specifies how encoding errors are to\n",
      "    be handled---this argument should not be used in binary mode. Pass\n",
      "    'strict' to raise a ValueError exception if there is an encoding error\n",
      "    (the default of None has the same effect), or pass 'ignore' to ignore\n",
      "    errors. (Note that ignoring encoding errors can lead to data loss.)\n",
      "    See the documentation for codecs.register or run 'help(codecs.Codec)'\n",
      "    for a list of the permitted encoding error strings.\n",
      "    \n",
      "    newline controls how universal newlines works (it only applies to text\n",
      "    mode). It can be None, '', '\\n', '\\r', and '\\r\\n'.  It works as\n",
      "    follows:\n",
      "    \n",
      "    * On input, if newline is None, universal newlines mode is\n",
      "      enabled. Lines in the input can end in '\\n', '\\r', or '\\r\\n', and\n",
      "      these are translated into '\\n' before being returned to the\n",
      "      caller. If it is '', universal newline mode is enabled, but line\n",
      "      endings are returned to the caller untranslated. If it has any of\n",
      "      the other legal values, input lines are only terminated by the given\n",
      "      string, and the line ending is returned to the caller untranslated.\n",
      "    \n",
      "    * On output, if newline is None, any '\\n' characters written are\n",
      "      translated to the system default line separator, os.linesep. If\n",
      "      newline is '' or '\\n', no translation takes place. If newline is any\n",
      "      of the other legal values, any '\\n' characters written are translated\n",
      "      to the given string.\n",
      "    \n",
      "    If closefd is False, the underlying file descriptor will be kept open\n",
      "    when the file is closed. This does not work when a file name is given\n",
      "    and must be True in that case.\n",
      "    \n",
      "    A custom opener can be used by passing a callable as *opener*. The\n",
      "    underlying file descriptor for the file object is then obtained by\n",
      "    calling *opener* with (*file*, *flags*). *opener* must return an open\n",
      "    file descriptor (passing os.open as *opener* results in functionality\n",
      "    similar to passing None).\n",
      "    \n",
      "    open() returns a file object whose type depends on the mode, and\n",
      "    through which the standard file operations such as reading and writing\n",
      "    are performed. When open() is used to open a file in a text mode ('w',\n",
      "    'r', 'wt', 'rt', etc.), it returns a TextIOWrapper. When used to open\n",
      "    a file in a binary mode, the returned class varies: in read binary\n",
      "    mode, it returns a BufferedReader; in write binary and append binary\n",
      "    modes, it returns a BufferedWriter, and in read/write mode, it returns\n",
      "    a BufferedRandom.\n",
      "    \n",
      "    It is also possible to use a string or bytearray as a file for both\n",
      "    reading and writing. For strings StringIO can be used like a file\n",
      "    opened in a text mode, and for bytes a BytesIO can be used like a file\n",
      "    opened in a binary mode.\n",
      "\n"
     ]
    }
   ],
   "source": [
    "help(open)"
   ]
  },
  {
   "cell_type": "markdown",
   "metadata": {},
   "source": [
    "## How to we read the help information?\n",
    "\n",
    "- What arguments (or options) are reguired? (Hint: file is a required argument in the open function)\n",
    "\n",
    "- What arguments are optional? (Hint: all other arguments are optional)\n",
    "\n",
    "- How do I know? (Hint: do you see any equal signs?)\n",
    "\n",
    "- Positional versus keyword"
   ]
  },
  {
   "cell_type": "markdown",
   "metadata": {},
   "source": [
    "So, these python commands are the same:\n",
    "    \n",
    "    open(\"new_file.txt\")\n",
    "    open(\"new_file.txt\", 'r')\n",
    "    open(file=\"new_file.txt\", mode='r')"
   ]
  },
  {
   "cell_type": "markdown",
   "metadata": {},
   "source": [
    "## Lets write our data to a new file"
   ]
  },
  {
   "cell_type": "code",
   "execution_count": 3,
   "metadata": {
    "collapsed": true
   },
   "outputs": [],
   "source": [
    "# Now that we have the file name we will create a few file,\n",
    "# which RETURNS a _file ahdnle_\n",
    "\n",
    "my_file_connector = open(\"flu_seg_8.fasta\", 'w')"
   ]
  },
  {
   "cell_type": "code",
   "execution_count": 38,
   "metadata": {
    "collapsed": false
   },
   "outputs": [
    {
     "data": {
      "text/plain": [
       "76"
      ]
     },
     "execution_count": 38,
     "metadata": {},
     "output_type": "execute_result",
     "text": []
    }
   ],
   "source": [
    "# Now that we ahve a file handle we can write to the file handle\n",
    "\n",
    "my_file_connector.write"
   ]
  },
  {
   "cell_type": "code",
   "execution_count": 19,
   "metadata": {
    "collapsed": false
   },
   "outputs": [
    {
     "data": {
      "text/plain": [
       "849"
      ]
     },
     "execution_count": 19,
     "metadata": {},
     "output_type": "execute_result",
     "text": []
    }
   ],
   "source": [
    "my_file_connector.write(sequence)"
   ]
  },
  {
   "cell_type": "code",
   "execution_count": 20,
   "metadata": {
    "collapsed": false
   },
   "outputs": [
    {
     "data": {
      "text/plain": [
       "849"
      ]
     },
     "execution_count": 20,
     "metadata": {},
     "output_type": "execute_result",
     "text": []
    }
   ],
   "source": [
    "len(sequence)"
   ]
  },
  {
   "cell_type": "markdown",
   "metadata": {},
   "source": [
    "What is the number that is returned? It is the number of characters written by the _write()_ function."
   ]
  },
  {
   "cell_type": "code",
   "execution_count": 27,
   "metadata": {
    "collapsed": true
   },
   "outputs": [],
   "source": [
    "# No lets close our file taht we have written to\n",
    "\n",
    "my_file_connector.close()"
   ]
  },
  {
   "cell_type": "code",
   "execution_count": null,
   "metadata": {
    "collapsed": false
   },
   "outputs": [],
   "source": [
    "# %load flu_seg_8.fasta\n",
    ">gb:AF333238|A/Brevig Mission/1/1918(H1N1)|Segment:8|Subtype:H1N1|Host:HumanATGGATTCCAACACTGTGTCAAGCTTTCAGGTAGACTGCTTTCTTTGGCATGTCCGCAAACGGTTTGCAG\n",
    "ACCAAGAACTGGGTGATGCCCCATTCCTTGATCGGCTTCGCCGAGATCAGAAGTCCCTAAGAGGAAGAGG\n",
    "CAGCACTCTTGGTCTGGACATCGAGACAGCCACCCGTGCTGGAAAGCAGATAGTGGAGCGGATTCTGAAG\n",
    "GAAGAATCCGATGAGGCACTTAAAATGACCATTGCCTCTGTACCTGCTTCGCGCTACCTAACTGACATGA\n",
    "CTCTTGAGGAGATGTCAAGGGACTGGTTCATGCTCATGCCCAAGCAGAAAGTGGCAGGCTCTCTTTGTAT\n",
    "CAGAATGGACCAGGCGATCATGGATAAGAACATCATACTGAAAGCGAACTTCAGTGTGATTTTCGACCGG\n",
    "CTGGAGACTCTAATACTACTAAGGGCTTTCACCGAAGAGGGAGCAATTGTTGGCGAAATTTCACCATTGC\n",
    "CTTCTCTTCCAGGACATACTGATGAGGATGTCAAAAATGCAGTTGGGGTCCTCATCGGAGGACTTGAATG\n",
    "GAATGATAACACAGTTCGAGTCTCTGAAACTCTACAGAGATTCGCTTGGAGAAGCAGTAATGAGAATGGG\n",
    "AGACCTCCACTCCCTCCAAAACAGAAACGGAAAATGGCGAGAACAATTAAGTCAGAAGTTTGAAGAAATA\n",
    "AGATGGTTGATTGAAGAAGTGAGACATAGACTGAAGATAACAGAGAATAGTTTTGAGCAAATAACATTTA\n",
    "TGCAAGCCTTACAACTATTGCTTGAAGTGGAGCAAGAGATAAGAACTTTCTCGTTTCAGCTTATTTAA"
   ]
  },
  {
   "cell_type": "markdown",
   "metadata": {},
   "source": [
    "## Questions...\n",
    "\n",
    "1. Did we create a file?\n",
    "2. Is the file correctly formatted?\n",
    "3. If not, how do we fix it?\n",
    "4. How to we check it again?"
   ]
  },
  {
   "cell_type": "code",
   "execution_count": 25,
   "metadata": {
    "collapsed": false
   },
   "outputs": [
    {
     "data": {
      "text/plain": [
       "849"
      ]
     },
     "execution_count": 25,
     "metadata": {},
     "output_type": "execute_result",
     "text": []
    }
   ],
   "source": [
    "my_file_connector.write(sequence_description + '\\n')\n",
    "my_file_connector.write(sequence)"
   ]
  },
  {
   "cell_type": "code",
   "execution_count": 39,
   "metadata": {
    "collapsed": true
   },
   "outputs": [],
   "source": [
    "# We ahve closed the stream to our file\n",
    "\n",
    "my_file_connector = open('flu_seg_8.fasta', 'w')"
   ]
  },
  {
   "cell_type": "code",
   "execution_count": 4,
   "metadata": {
    "collapsed": true
   },
   "outputs": [],
   "source": [
    "%load flu_seg_8.fasta\n"
   ]
  },
  {
   "cell_type": "markdown",
   "metadata": {},
   "source": [
    "## Opening a file\n",
    "\n",
    "In Python, as in the physical world, we have to open a file before we can read what’s inside it. The Python function that carries out the job of opening a file is very sensibly called open. It takes one argument – a string which contains the name of the file – and returns a file object:\n",
    "\n",
    "    sequence_file = open('flu_seg_8.fasta\")"
   ]
  },
  {
   "cell_type": "code",
   "execution_count": 40,
   "metadata": {
    "collapsed": true
   },
   "outputs": [],
   "source": [
    "# Type the above command here and run it\n"
   ]
  },
  {
   "cell_type": "markdown",
   "metadata": {},
   "source": [
    "## Files, contents and file names\n",
    "\n",
    "When learning to work with files it’s very easy to get confused between a file handle, a file name, and the contents of a file. Take a look at the following bit of code:\n",
    "\n",
    "    my_file_name = \"flu_seg_8.fasta\"\n",
    "    my_file_handle = open(my_file_name)\n",
    "    my_file_contents = my_file_handle.read()"
   ]
  },
  {
   "cell_type": "code",
   "execution_count": 29,
   "metadata": {
    "collapsed": true
   },
   "outputs": [],
   "source": [
    "# Type the above commands here and run it\n"
   ]
  },
  {
   "cell_type": "markdown",
   "metadata": {},
   "source": [
    "What _type_ of object is each variable above? Try:\n",
    "\n",
    "    type(my_file_name)\n",
    "    type(my_file_handle)\n",
    "    type(my_file_contents)"
   ]
  },
  {
   "cell_type": "code",
   "execution_count": 41,
   "metadata": {
    "collapsed": false
   },
   "outputs": [],
   "source": [
    "# Type the above command here and run it\n",
    "\n"
   ]
  },
  {
   "cell_type": "markdown",
   "metadata": {},
   "source": [
    "# Common errors:\n",
    "    \n",
    "A common error is to try to use the read method on the wrong thing. Recall that read is a method that only works on file objects. If we try to use the read method on the file name:\n",
    "\n",
    "    my_file_name = \"flu_seg_8.fasta\"\n",
    "    my_contents = my_file_name.read()\n",
    "    \n",
    "we’ll get an AttributeError – Python will complain that strings don’t have a read method3 :\n",
    "\n",
    "    AttributeError: 'str' object has no attribute 'read'"
   ]
  },
  {
   "cell_type": "markdown",
   "metadata": {},
   "source": [
    "Another common error is to use the file object when we meant to use the file contents. If we try to print the file object:\n",
    "\n",
    "    my_file_name = \"flu_seg_8.fasta\"\n",
    "    my_file = open('/Users/squiresrb/Doc/BIOF309/week3/my_file_name')\n",
    "    print(my_file)\n",
    "\n",
    "we won’t get an error, but we’ll get an odd-looking line of output:\n",
    "\n",
    "    <open file 'flu_seg_8.fasta', mode 'r' at 0x7fc5ff7784b0>"
   ]
  },
  {
   "cell_type": "markdown",
   "metadata": {},
   "source": [
    "## Missing files\n",
    "\n",
    "What happens if we try to read a file that doesn’t exist?\n",
    "\n",
    "    my_file = open(\"nonexistent.txt\")\n",
    "\n",
    "We get a new type of error that we’ve not seen before:\n",
    "\n",
    "    IOError: [Errno 2] No such file or directory: 'nonexistent.txt'\n",
    "\n",
    "Ideally, we’d like to be able to check if a file exists before we try to open it. To do this we use "
   ]
  },
  {
   "cell_type": "markdown",
   "metadata": {},
   "source": [
    "## Advanced: Working with many files"
   ]
  },
  {
   "cell_type": "markdown",
   "metadata": {},
   "source": [
    "We now have almost everything we need to process all our data files. The only thing that’s missing is a library with a rather unpleasant name:\n",
    "\n",
    "    import glob\n",
    "\n",
    "The glob library contains a function, also called glob, that finds files and directories whose names match a pattern. We provide those patterns as strings: the character * matches zero or more characters, while ? matches any one character. We can use this to get the names of all the CSV files in the current directory:\n",
    "\n",
    "    print(glob.glob('*'))"
   ]
  },
  {
   "cell_type": "code",
   "execution_count": 42,
   "metadata": {
    "collapsed": false
   },
   "outputs": [
    {
     "name": "stdout",
     "output_type": "stream",
     "text": [
      "['flu_seg_8.fasta']\n"
     ]
    }
   ],
   "source": [
    "import glob\n",
    "print(glob.glob('*.fasta'))"
   ]
  },
  {
   "cell_type": "code",
   "execution_count": null,
   "metadata": {
    "collapsed": true
   },
   "outputs": [],
   "source": []
  }
 ],
 "metadata": {
  "anaconda-cloud": {},
  "kernelspec": {
   "display_name": "Python [conda root]",
   "language": "python",
   "name": "conda-root-py"
  },
  "language_info": {
   "codemirror_mode": {
    "name": "ipython",
    "version": 3
   },
   "file_extension": ".py",
   "mimetype": "text/x-python",
   "name": "python",
   "nbconvert_exporter": "python",
   "pygments_lexer": "ipython3",
   "version": "3.5.2"
  }
 },
 "nbformat": 4,
 "nbformat_minor": 0
}
