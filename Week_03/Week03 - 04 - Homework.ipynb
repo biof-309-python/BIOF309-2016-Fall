{
 "cells": [
  {
   "cell_type": "markdown",
   "metadata": {},
   "source": [
    "# Week 3 Homework"
   ]
  },
  {
   "cell_type": "markdown",
   "metadata": {},
   "source": [
    "### Write a python program to save a well formatted fasta file"
   ]
  },
  {
   "cell_type": "code",
   "execution_count": 1,
   "metadata": {
    "collapsed": false
   },
   "outputs": [],
   "source": [
    "sequence_description = \"gb|AF333238|A/Brevig Mission/1/1918(H1N1)|Segment:8|Subtype:H1N1|Host:Human\"\n",
    "sequence = \"ATGGATTCCAACACTGTGTCAAGCTTTCAGGTAGACTGCTTTCTTTGGCATGTCCGCAAACGGTTTGCAGACCAAGAACTGGGTGATGCCCCATTCCTTGATCGGCTTCGCCGAGATCAGAAGTCCCTAAGAGGAAGAGGCAGCACTCTTGGTCTGGACATCGAGACAGCCACCCGTGCTGGAAAGCAGATAGTGGAGCGGATTCTGAAGGAAGAATCCGATGAGGCACTTAAAATGACCATTGCCTCTGTACCTGCTTCGCGCTACCTAACTGACATGACTCTTGAGGAGATGTCAAGGGACTGGTTCATGCTCATGCCCAAGCAGAAAGTGGCAGGCTCTCTTTGTATCAGAATGGACCAGGCGATCATGGATAAGAACATCATACTGAAAGCGAACTTCAGTGTGATTTTCGACCGGCTGGAGACTCTAATACTACTAAGGGCTTTCACCGAAGAGGGAGCAATTGTTGGCGAAATTTCACCATTGCCTTCTCTTCCAGGACATACTGATGAGGATGTCAAAAATGCAGTTGGGGTCCTCATCGGAGGACTTGAATGGAATGATAACACAGTTCGAGTCTCTGAAACTCTACAGAGATTCGCTTGGAGAAGCAGTAATGAGAATGGGAGACCTCCACTCCCTCCAAAACAGAAACGGAAAATGGCGAGAACAATTAAGTCAGAAGTTTGAAGAAATAAGATGGTTGATTGAAGAAGTGAGACATAGACTGAAGATAACAGAGAATAGTTTTGAGCAAATAACATTTATGCAAGCCTTACAACTATTGCTTGAAGTGGAGCAAGAGATAAGAACTTTCTCGTTTCAGCTTATTTAA\""
   ]
  },
  {
   "cell_type": "markdown",
   "metadata": {},
   "source": [
    "### Pseudocode\n",
    "\n",
    "Pseudocode is the term used to describe a draft outline of a program written in plain English (or whatever language you write it in :-) ). We use pseudocode to discuss the functionality of the program as well as key elements in the program. Starting a program by using pseudocode can help to get your logic down quickly without having to be concerned with hte exact details or syntax of the programming language."
   ]
  },
  {
   "cell_type": "markdown",
   "metadata": {},
   "source": [
    "#### Create a FASTA file of the data above and make the sequence lowercase.\n",
    "\n",
    "Requirements:\n",
    "\n",
    "- A \">\" sign at the beginning of the description line\n",
    "- Make all the sequence lowercase\n",
    "- Parse the accession number (AF333238) from teh description\n",
    "- Used the parsed accession to save the file name as 'AF333238.fasta\"\n",
    "\n",
    "Want to know more about FASTA files? Check this [webpage](https://en.wikipedia.org/wiki/FASTA_format) out."
   ]
  },
  {
   "cell_type": "markdown",
   "metadata": {},
   "source": [
    "Pseudocode:\n",
    "\n",
    "- Read the description\n",
    "- Parse out the accession number form the description (Hint: use the sequence_description.split() function; user parsed_description[1] )\n",
    "- Create a new file with the filename \"AF333238.fasta\"  ## Do not hard code the file name\n",
    "- Save the description but add a \">\" sign at the beginning of the description line\n",
    "- Make the sequence lowercase\n",
    "- Write the sequence data\n",
    "\n",
    "NOTE: Please get into the good habit of commenting your code and describing what you are going to do or are doing. There must be at least one comment in your code.\n",
    "\n",
    "NOTE: Next week we will see how to break the sequence into 80-mers"
   ]
  },
  {
   "cell_type": "code",
   "execution_count": null,
   "metadata": {
    "collapsed": true
   },
   "outputs": [],
   "source": [
    "# Write your code here (if you wish)\n",
    "\n",
    "\n"
   ]
  },
  {
   "cell_type": "markdown",
   "metadata": {},
   "source": [
    "If you would like to create a file with your source doe paste it in the cell below and run. __Please remember__ to add your name to the file."
   ]
  },
  {
   "cell_type": "code",
   "execution_count": null,
   "metadata": {
    "collapsed": true
   },
   "outputs": [],
   "source": [
    "%%writefile FASTA_formatter.py\n",
    "\n",
    "#Paste Code here"
   ]
  },
  {
   "cell_type": "code",
   "execution_count": null,
   "metadata": {
    "collapsed": true
   },
   "outputs": [],
   "source": [
    "%%python3 FASTA_formatter.py"
   ]
  }
 ],
 "metadata": {
  "anaconda-cloud": {},
  "kernelspec": {
   "display_name": "Python [conda root]",
   "language": "python",
   "name": "conda-root-py"
  },
  "language_info": {
   "codemirror_mode": {
    "name": "ipython",
    "version": 3
   },
   "file_extension": ".py",
   "mimetype": "text/x-python",
   "name": "python",
   "nbconvert_exporter": "python",
   "pygments_lexer": "ipython3",
   "version": "3.5.2"
  }
 },
 "nbformat": 4,
 "nbformat_minor": 0
}
